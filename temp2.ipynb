{
 "cells": [
  {
   "cell_type": "code",
   "execution_count": null,
   "metadata": {},
   "outputs": [],
   "source": [
    "import pandas as pd\n",
    "\n",
    "# read the excel file\n",
    "df = pd.read_excel('finalisti.xls')\n",
    "df.head()"
   ]
  },
  {
   "cell_type": "code",
   "execution_count": null,
   "metadata": {},
   "outputs": [],
   "source": [
    "# create a df with the columns CodSocieta Cognome Nome Anno Sesso Gara Tempo Societa Regione\n",
    "out = pd.DataFrame(columns=['CodSocieta', 'Cognome', 'Nome', 'Anno', 'Sesso', 'Gara', 'Tempo', 'Societa', 'Regione'])\n",
    "out.head()"
   ]
  },
  {
   "cell_type": "code",
   "execution_count": null,
   "metadata": {},
   "outputs": [],
   "source": [
    "out[\"CodSocieta\"] = df[\"CodFisSocieta\"]\n",
    "out[\"Societa\"] = df[\"Società\"]\n",
    "# regione = EMilia Romagna for all\n",
    "out[\"Regione\"] = \"Emilia-Romagna\"\n",
    "out[\"Gara\"] = \"100 misti\"\n",
    "out[\"Tempo\"] = df[\"Tempo\"]\n",
    "out[\"Sesso\"] = df[\"Sesso\"]\n",
    "out[\"Anno\"] = df[\"Anno\"]\n",
    "out.head()"
   ]
  },
  {
   "cell_type": "code",
   "execution_count": null,
   "metadata": {},
   "outputs": [],
   "source": [
    "import src.go_and_uisp as util\n",
    "# cycle over atleta column taking also the index\n",
    "for index, atleta in df[\"Atleta\"].items():\n",
    "    name, surname = util.split_names(atleta)\n",
    "    out.at[index, \"Nome\"] = name\n",
    "    out.at[index, \"Cognome\"] = surname\n",
    "\n",
    "out.head()"
   ]
  }
 ],
 "metadata": {
  "kernelspec": {
   "display_name": "Python 3",
   "language": "python",
   "name": "python3"
  },
  "language_info": {
   "codemirror_mode": {
    "name": "ipython",
    "version": 3
   },
   "file_extension": ".py",
   "mimetype": "text/x-python",
   "name": "python",
   "nbconvert_exporter": "python",
   "pygments_lexer": "ipython3",
   "version": "3.10.12"
  }
 },
 "nbformat": 4,
 "nbformat_minor": 2
}
