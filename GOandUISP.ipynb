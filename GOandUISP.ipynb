{
 "cells": [
  {
   "attachments": {},
   "cell_type": "markdown",
   "metadata": {},
   "source": [
    "# GOandUISP\n",
    "Script Python per la conversione di file _.xlsx_ da output GoAndSwim a input per il portale online UISP.\n",
    "\n",
    "## Guida rapida (online version)\n",
    "\n",
    "### Preparare il file di input\n",
    "1. Creare un file excel (_.xlsx_), e aprirlo con Excel. Questo file deve essere vuoto per il momento\n",
    "2. Una volta aperto il file, aprire il file _.GAS_ della manifestazione che si vuole convertire\n",
    "3. Selezionare le gare di interesse ed entrare in esse (tasto in basso a sinistra di GoAndSwim)\n",
    "4. Senza dover fare nulla, si dovrebbe essere sul primo atleta dell'elenco. A questo punto eseguire la combinazione di tasti _CTRL + C_ (copia)\n",
    "5. Andare nel file vuoto appena creato nella prima cella in alto a sinistra (la A1) ed eseguirle la combinazione di tasti _CTRL + V_ (incolla). In questo modo tutte le gare di interesse dovrebbero essere state copiate nel file Excel\n",
    "6. Salvare il file e chiuderlo\n",
    "\n",
    "### Esecuzione\n",
    "\n",
    "Premere sul pulsante a forma di cartella sulla sinistra di questo documento e caricare i file che si desidera convertire.\n",
    "Successivamente, eseguire il codice sotto questo testo con il tasto *play* oppure entrandovi e premendo CTRL + INVIO.\n",
    "__NOTA__: nel caso di atleti con più di un nome/cognome il programma chiederà di inserirli manualmente *in fondo a questa pagina web*, comunicandovi tutti i dati che possiede di quel determinato atleta. Potete scrivere sia in maiuscolo che in minuscolo ed inserire spazi (per i nomi/cognomi multipli). Una volta inserito il nome/cognome multiplo richiesto, premere INVIO e ripetere l'azione ogni qualvolta richiesta dal programma.\n",
    "\n",
    "### Output\n",
    "\n",
    "Una volta eseguito lo script i file saranno formattati correttamente e potranno essere scaricati.\n",
    "In caso le modifiche non siano visibili, ricaricare la pagina (tasto F5)."
   ]
  },
  {
   "cell_type": "code",
   "execution_count": 3,
   "metadata": {},
   "outputs": [
    {
     "name": "stdout",
     "output_type": "stream",
     "text": [
      "GOandUISP v(1. 4. 0) by Gregorio Berselli.\n",
      "Per informazioni su come utilizzare il programma si consulti il repository GitHub: https://github.com/Grufoony/GOandUISP\n",
      "\n",
      "\n"
     ]
    },
    {
     "ename": "ValueError",
     "evalue": "Length mismatch: Expected axis has 9 elements, new values have 20 elements",
     "output_type": "error",
     "traceback": [
      "\u001b[0;31m---------------------------------------------------------------------------\u001b[0m",
      "\u001b[0;31mValueError\u001b[0m                                Traceback (most recent call last)",
      "Cell \u001b[0;32mIn[3], line 12\u001b[0m\n\u001b[1;32m     10\u001b[0m \u001b[39mif\u001b[39;00m f\u001b[39m.\u001b[39mendswith(\u001b[39m\"\u001b[39m\u001b[39m.xlsx\u001b[39m\u001b[39m\"\u001b[39m) \u001b[39mor\u001b[39;00m f\u001b[39m.\u001b[39mendswith(\u001b[39m\"\u001b[39m\u001b[39m.xls\u001b[39m\u001b[39m\"\u001b[39m) \u001b[39mand\u001b[39;00m \u001b[39mnot\u001b[39;00m f\u001b[39m.\u001b[39mendswith(\u001b[39m\"\u001b[39m\u001b[39m_convertito.xlsx\u001b[39m\u001b[39m\"\u001b[39m):\n\u001b[1;32m     11\u001b[0m     df \u001b[39m=\u001b[39m pd\u001b[39m.\u001b[39mread_excel(f, header\u001b[39m=\u001b[39m\u001b[39mNone\u001b[39;00m)\n\u001b[0;32m---> 12\u001b[0m     df \u001b[39m=\u001b[39m converter\u001b[39m.\u001b[39;49mformat(df\u001b[39m=\u001b[39;49mdf)\n\u001b[1;32m     13\u001b[0m     converter\u001b[39m.\u001b[39mprint_counts(df\u001b[39m=\u001b[39mdf)\n\u001b[1;32m     14\u001b[0m     \u001b[39minput\u001b[39m(\u001b[39m\"\u001b[39m\u001b[39mPremi INVIO per continuare...\u001b[39m\u001b[39m\"\u001b[39m)\n",
      "File \u001b[0;32m~/uisp/GOandUISP.py:64\u001b[0m, in \u001b[0;36mconverter.format\u001b[0;34m(cls, df)\u001b[0m\n\u001b[1;32m     61\u001b[0m \u001b[39mif\u001b[39;00m \u001b[39mlen\u001b[39m(df\u001b[39m.\u001b[39mcolumns) \u001b[39m==\u001b[39m \u001b[39m21\u001b[39m:\n\u001b[1;32m     62\u001b[0m     df\u001b[39m.\u001b[39mdrop(df\u001b[39m.\u001b[39mcolumns[\u001b[39m1\u001b[39m], axis\u001b[39m=\u001b[39m\u001b[39m1\u001b[39m, inplace\u001b[39m=\u001b[39m\u001b[39mTrue\u001b[39;00m)\n\u001b[0;32m---> 64\u001b[0m df\u001b[39m.\u001b[39;49mcolumns \u001b[39m=\u001b[39m \u001b[39mcls\u001b[39m\u001b[39m.\u001b[39m_in_columns\n\u001b[1;32m     65\u001b[0m \u001b[39m# check if style column is correct\u001b[39;00m\n\u001b[1;32m     66\u001b[0m incorrect_styles \u001b[39m=\u001b[39m \u001b[39mFalse\u001b[39;00m\n",
      "File \u001b[0;32m~/.local/lib/python3.10/site-packages/pandas/core/generic.py:6002\u001b[0m, in \u001b[0;36mNDFrame.__setattr__\u001b[0;34m(self, name, value)\u001b[0m\n\u001b[1;32m   6000\u001b[0m \u001b[39mtry\u001b[39;00m:\n\u001b[1;32m   6001\u001b[0m     \u001b[39mobject\u001b[39m\u001b[39m.\u001b[39m\u001b[39m__getattribute__\u001b[39m(\u001b[39mself\u001b[39m, name)\n\u001b[0;32m-> 6002\u001b[0m     \u001b[39mreturn\u001b[39;00m \u001b[39mobject\u001b[39;49m\u001b[39m.\u001b[39;49m\u001b[39m__setattr__\u001b[39;49m(\u001b[39mself\u001b[39;49m, name, value)\n\u001b[1;32m   6003\u001b[0m \u001b[39mexcept\u001b[39;00m \u001b[39mAttributeError\u001b[39;00m:\n\u001b[1;32m   6004\u001b[0m     \u001b[39mpass\u001b[39;00m\n",
      "File \u001b[0;32m~/.local/lib/python3.10/site-packages/pandas/_libs/properties.pyx:69\u001b[0m, in \u001b[0;36mpandas._libs.properties.AxisProperty.__set__\u001b[0;34m()\u001b[0m\n",
      "File \u001b[0;32m~/.local/lib/python3.10/site-packages/pandas/core/generic.py:730\u001b[0m, in \u001b[0;36mNDFrame._set_axis\u001b[0;34m(self, axis, labels)\u001b[0m\n\u001b[1;32m    725\u001b[0m \u001b[39m\u001b[39m\u001b[39m\"\"\"\u001b[39;00m\n\u001b[1;32m    726\u001b[0m \u001b[39mThis is called from the cython code when we set the `index` attribute\u001b[39;00m\n\u001b[1;32m    727\u001b[0m \u001b[39mdirectly, e.g. `series.index = [1, 2, 3]`.\u001b[39;00m\n\u001b[1;32m    728\u001b[0m \u001b[39m\"\"\"\u001b[39;00m\n\u001b[1;32m    729\u001b[0m labels \u001b[39m=\u001b[39m ensure_index(labels)\n\u001b[0;32m--> 730\u001b[0m \u001b[39mself\u001b[39;49m\u001b[39m.\u001b[39;49m_mgr\u001b[39m.\u001b[39;49mset_axis(axis, labels)\n\u001b[1;32m    731\u001b[0m \u001b[39mself\u001b[39m\u001b[39m.\u001b[39m_clear_item_cache()\n",
      "File \u001b[0;32m~/.local/lib/python3.10/site-packages/pandas/core/internals/managers.py:225\u001b[0m, in \u001b[0;36mBaseBlockManager.set_axis\u001b[0;34m(self, axis, new_labels)\u001b[0m\n\u001b[1;32m    223\u001b[0m \u001b[39mdef\u001b[39;00m \u001b[39mset_axis\u001b[39m(\u001b[39mself\u001b[39m, axis: AxisInt, new_labels: Index) \u001b[39m-\u001b[39m\u001b[39m>\u001b[39m \u001b[39mNone\u001b[39;00m:\n\u001b[1;32m    224\u001b[0m     \u001b[39m# Caller is responsible for ensuring we have an Index object.\u001b[39;00m\n\u001b[0;32m--> 225\u001b[0m     \u001b[39mself\u001b[39;49m\u001b[39m.\u001b[39;49m_validate_set_axis(axis, new_labels)\n\u001b[1;32m    226\u001b[0m     \u001b[39mself\u001b[39m\u001b[39m.\u001b[39maxes[axis] \u001b[39m=\u001b[39m new_labels\n",
      "File \u001b[0;32m~/.local/lib/python3.10/site-packages/pandas/core/internals/base.py:70\u001b[0m, in \u001b[0;36mDataManager._validate_set_axis\u001b[0;34m(self, axis, new_labels)\u001b[0m\n\u001b[1;32m     67\u001b[0m     \u001b[39mpass\u001b[39;00m\n\u001b[1;32m     69\u001b[0m \u001b[39melif\u001b[39;00m new_len \u001b[39m!=\u001b[39m old_len:\n\u001b[0;32m---> 70\u001b[0m     \u001b[39mraise\u001b[39;00m \u001b[39mValueError\u001b[39;00m(\n\u001b[1;32m     71\u001b[0m         \u001b[39mf\u001b[39m\u001b[39m\"\u001b[39m\u001b[39mLength mismatch: Expected axis has \u001b[39m\u001b[39m{\u001b[39;00mold_len\u001b[39m}\u001b[39;00m\u001b[39m elements, new \u001b[39m\u001b[39m\"\u001b[39m\n\u001b[1;32m     72\u001b[0m         \u001b[39mf\u001b[39m\u001b[39m\"\u001b[39m\u001b[39mvalues have \u001b[39m\u001b[39m{\u001b[39;00mnew_len\u001b[39m}\u001b[39;00m\u001b[39m elements\u001b[39m\u001b[39m\"\u001b[39m\n\u001b[1;32m     73\u001b[0m     )\n",
      "\u001b[0;31mValueError\u001b[0m: Length mismatch: Expected axis has 9 elements, new values have 20 elements"
     ]
    }
   ],
   "source": [
    "import pandas as pd\n",
    "import os\n",
    "from GOandUISP import converter\n",
    "\n",
    "\n",
    "if __name__ == \"__main__\":\n",
    "    print(\"GOandUISP v\" + (''.join(str(converter.__version__))).replace(',', '.') + \" by Gregorio Berselli.\")\n",
    "    print(\"Per informazioni su come utilizzare il programma si consulti il repository GitHub: https://github.com/Grufoony/GOandUISP\\n\\n\")\n",
    "    for f in os.listdir():\n",
    "        if (f.endswith(\".xlsx\") or f.endswith(\".xls\")) and not f.endswith(\"_convertito.xlsx\"):\n",
    "            df = pd.read_excel(f, header=None)\n",
    "            df = converter.format(df=df)\n",
    "            converter.print_counts(df=df)\n",
    "            input(\"Premi INVIO per continuare...\")\n",
    "            out = converter.groupdata(df=df)\n",
    "            out.to_excel(os.path.splitext(f)[0] + '_convertito.xlsx', index=False)\n",
    "            if not f.endswith(\".xlsx\"):\n",
    "                os.remove(f)\n",
    "            print(\"File \" + f + \" convertito con successo!\")\n",
    "    print(\"Tutti i file presenti nella cartella sono stati convertiti con successo!\")\n"
   ]
  }
 ],
 "metadata": {
  "kernelspec": {
   "display_name": "Python 3",
   "language": "python",
   "name": "python3"
  },
  "language_info": {
   "codemirror_mode": {
    "name": "ipython",
    "version": 3
   },
   "file_extension": ".py",
   "mimetype": "text/x-python",
   "name": "python",
   "nbconvert_exporter": "python",
   "pygments_lexer": "ipython3",
   "version": "3.10.6"
  },
  "orig_nbformat": 4
 },
 "nbformat": 4,
 "nbformat_minor": 2
}
