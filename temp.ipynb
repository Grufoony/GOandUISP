{
 "cells": [
  {
   "cell_type": "code",
   "execution_count": null,
   "metadata": {},
   "outputs": [],
   "source": [
    "# import an xls file\n",
    "import pandas as pd\n",
    "import xlrd\n",
    "\n",
    "# read the file\n",
    "df = pd.read_excel('riepilogo_staffette.xls')\n",
    "df.head()"
   ]
  },
  {
   "cell_type": "code",
   "execution_count": null,
   "metadata": {},
   "outputs": [],
   "source": [
    "# erase last 3 chars from every value of Staffettisti column\n",
    "df['Staffettisti'] = df['Staffettisti'].map(lambda x: str(x)[:-3])\n",
    "\n",
    "# each Staffettisti value contains 4 values separated by - so split it annd put in 4 different columns\n",
    "df[['Atleta1', 'Atleta2', 'Atleta3', 'Atleta4']] = df['Staffettisti'].str.split('-', expand=True)\n",
    "\n",
    "df.head()"
   ]
  },
  {
   "cell_type": "code",
   "execution_count": null,
   "metadata": {},
   "outputs": [],
   "source": [
    "# replace all STAFFETTA occurences with empty string\n",
    "df['Atleta1'] = df['Atleta1'].str.replace('STAFFETTA', '')\n",
    "df['Atleta2'] = df['Atleta2'].str.replace('STAFFETTA', '')\n",
    "df['Atleta3'] = df['Atleta3'].str.replace('STAFFETTA', '')\n",
    "df['Atleta4'] = df['Atleta4'].str.replace('STAFFETTA', '')\n",
    "\n",
    "df.head()"
   ]
  },
  {
   "cell_type": "code",
   "execution_count": null,
   "metadata": {},
   "outputs": [],
   "source": [
    "# now build a dataframe with columns:\n",
    "# Codice (empty), Societa, Categoria, Sesso, Gara, Tempo, Atleta1, Atleta2, Atleta3, Atleta4\n",
    "# create it empty\n",
    "df2 = pd.DataFrame(columns=['CategoriaVera', 'Codice', 'Societa', 'Categoria', 'Sesso', 'Gara', 'Tempo', 'Atleta1', 'Atleta2', 'Atleta3', 'Atleta4'])\n",
    "# fill it\n",
    "df2['Societa'] = df['Società']\n",
    "df2['CategoriaVera'] = df['Cat']\n",
    "df2['Sesso'] = df['Sesso']\n",
    "df2['Gara'] = df['Gara']\n",
    "df2['Tempo'] = df['TempoTxt']\n",
    "df2['Atleta1'] = df['Atleta1'].str.upper()\n",
    "df2['Atleta2'] = df['Atleta2'].str.upper()\n",
    "df2['Atleta3'] = df['Atleta3'].str.upper()\n",
    "df2['Atleta4'] = df['Atleta4'].str.upper()\n",
    "\n",
    "df2.head()"
   ]
  },
  {
   "cell_type": "code",
   "execution_count": null,
   "metadata": {},
   "outputs": [],
   "source": [
    "# now replace every value in category like \"Es. - X\" with EX where X is a letter\n",
    "df2['CategoriaVera'] = df2['CategoriaVera'].str.replace('Es. - ', 'E')\n",
    "# replace every Z in the Sesso column with X\n",
    "df2['Sesso'] = df2['Sesso'].str.replace('Z', 'X')\n",
    "# in the Gara column, replace NXNNSL with NxNN Stile where N is a number\n",
    "df2['Gara'] = df2['Gara'].str.replace(\"X\", \"x\")\n",
    "df2['Gara'] = df2['Gara'].str.replace(\"SL\", \" Stile\")\n",
    "df2['Gara'] = df2['Gara'].str.replace(\"Mx\", \" Mista\")\n",
    "\n",
    "df2.head()"
   ]
  },
  {
   "cell_type": "code",
   "execution_count": null,
   "metadata": {},
   "outputs": [],
   "source": [
    "# save df2 into a csv file\n",
    "df2.to_csv('staffette_dbmeeting.csv', index=False, sep=';')"
   ]
  },
  {
   "cell_type": "code",
   "execution_count": null,
   "metadata": {},
   "outputs": [],
   "source": [
    "import pandas as pd\n",
    "import xlrd\n",
    "\n",
    "# read Staffette.xlsx\n",
    "\n",
    "df = pd.read_excel('Staffette.xlsx', header=None)\n",
    "df.head()"
   ]
  },
  {
   "cell_type": "code",
   "execution_count": null,
   "metadata": {},
   "outputs": [],
   "source": [
    "races_cols = [2, 3, 4, 5]\n",
    "team_col = 6\n",
    "\n",
    "# Create a new column 'race' that combines the values of the race columns\n",
    "df['race'] = df[races_cols].apply(tuple, axis=1)\n",
    "\n",
    "# Group by team and race, and count the number of subscriptions\n",
    "df_subs = df.groupby([team_col, 'race']).size().reset_index(name='subs')\n",
    "\n",
    "# Compute the price for each group\n",
    "df_subs['price'] = df_subs['subs'].apply(lambda x: 12 if x == 1 else 20)\n",
    "\n",
    "# Compute the total price for each team\n",
    "df_total_price = df_subs.groupby(team_col)['price'].sum().reset_index()\n",
    "\n",
    "df_total_price"
   ]
  }
 ],
 "metadata": {
  "kernelspec": {
   "display_name": "Python 3",
   "language": "python",
   "name": "python3"
  },
  "language_info": {
   "codemirror_mode": {
    "name": "ipython",
    "version": 3
   },
   "file_extension": ".py",
   "mimetype": "text/x-python",
   "name": "python",
   "nbconvert_exporter": "python",
   "pygments_lexer": "ipython3",
   "version": "3.10.12"
  }
 },
 "nbformat": 4,
 "nbformat_minor": 2
}
