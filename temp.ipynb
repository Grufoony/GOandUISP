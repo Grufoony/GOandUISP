{
 "cells": [
  {
   "cell_type": "code",
   "execution_count": null,
   "metadata": {},
   "outputs": [],
   "source": [
    "# import an xls file\n",
    "import pandas as pd\n",
    "import xlrd\n",
    "\n",
    "# read the file\n",
    "df = pd.read_excel('staffette_dbmeeting.xls')\n",
    "df.head()"
   ]
  },
  {
   "cell_type": "code",
   "execution_count": null,
   "metadata": {},
   "outputs": [],
   "source": [
    "# erase last 3 chars from every value of Staffettisti column\n",
    "df['Staffettisti'] = df['Staffettisti'].map(lambda x: str(x)[:-3])\n",
    "\n",
    "# each Staffettisti value contains 4 values separated by - so split it annd put in 4 different columns\n",
    "df[['Atleta1', 'Atleta2', 'Atleta3', 'Atleta4']] = df['Staffettisti'].str.split('-', expand=True)\n",
    "\n",
    "df.head()"
   ]
  },
  {
   "cell_type": "code",
   "execution_count": null,
   "metadata": {},
   "outputs": [],
   "source": [
    "# replace all STAFFETTA occurences with empty string\n",
    "df['Atleta1'] = df['Atleta1'].str.replace('STAFFETTA', '')\n",
    "df['Atleta2'] = df['Atleta2'].str.replace('STAFFETTA', '')\n",
    "df['Atleta3'] = df['Atleta3'].str.replace('STAFFETTA', '')\n",
    "df['Atleta4'] = df['Atleta4'].str.replace('STAFFETTA', '')\n",
    "\n",
    "df.head()"
   ]
  },
  {
   "cell_type": "code",
   "execution_count": null,
   "metadata": {},
   "outputs": [],
   "source": [
    "# now build a dataframe with columns:\n",
    "# Codice (empty), Societa, Categoria, Sesso, Gara, Tempo, Atleta1, Atleta2, Atleta3, Atleta4\n",
    "# create it empty\n",
    "df2 = pd.DataFrame(columns=['CategoriaVera', 'Codice', 'Societa', 'Categoria', 'Sesso', 'Gara', 'Tempo', 'Atleta1', 'Atleta2', 'Atleta3', 'Atleta4'])\n",
    "# fill it\n",
    "df2['Societa'] = df['Società']\n",
    "df2['Categoria'] = df['Cat']\n",
    "df2['CategoriaVera'] = df['Cat']\n",
    "df2['Sesso'] = df['Sesso']\n",
    "df2['Gara'] = df['Gara']\n",
    "df2['Tempo'] = df['TempoTxt']\n",
    "df2['Atleta1'] = df['Atleta1']\n",
    "df2['Atleta2'] = df['Atleta2']\n",
    "df2['Atleta3'] = df['Atleta3']\n",
    "df2['Atleta4'] = df['Atleta4']\n",
    "\n",
    "df2.head()"
   ]
  },
  {
   "cell_type": "code",
   "execution_count": null,
   "metadata": {},
   "outputs": [],
   "source": [
    "# now replace every value in category like \"Es. - X\" with EX where X is a letter\n",
    "df2['Categoria'] = df2['Categoria'].str.replace('Es. - ', 'E')\n",
    "\n",
    "df2.head()"
   ]
  },
  {
   "cell_type": "code",
   "execution_count": null,
   "metadata": {},
   "outputs": [],
   "source": [
    "# save df2 into a csv file\n",
    "df2.to_csv('staffette_dbmeeting.csv', index=False, sep=';')"
   ]
  }
 ],
 "metadata": {
  "kernelspec": {
   "display_name": "Python 3",
   "language": "python",
   "name": "python3"
  },
  "language_info": {
   "codemirror_mode": {
    "name": "ipython",
    "version": 3
   },
   "file_extension": ".py",
   "mimetype": "text/x-python",
   "name": "python",
   "nbconvert_exporter": "python",
   "pygments_lexer": "ipython3",
   "version": "3.10.12"
  }
 },
 "nbformat": 4,
 "nbformat_minor": 2
}
