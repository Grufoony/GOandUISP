{
 "cells": [
  {
   "attachments": {},
   "cell_type": "markdown",
   "metadata": {},
   "source": [
    "# GOandUISP\n",
    "Script Python per la conversione di file excel da output GoAndSwim a input per il portale online UISP.\n",
    "\n",
    "**NOTA**: leggi [qui](https://github.com/Grufoony/GOandUISP) come preparare i file di input!\n",
    "\n",
    "### Esecuzione\n",
    "\n",
    "Premere sul pulsante a forma di cartella sulla sinistra di questo documento e caricare i file che si desidera convertire.\n",
    "Successivamente, eseguire il codice sotto questo testo nella sezione di interesse con il tasto *play* oppure entrandovi e premendo *CTRL + INVIO*.\n",
    "\n",
    "**NOTA**: eseguire sempre la prima cella subito sotto questo testo.\n",
    "\n",
    "### Output\n",
    "\n",
    "Una volta eseguito lo script i file saranno formattati correttamente e potranno essere scaricati.\n",
    "In caso le modifiche non siano visibili, ricaricare l'elenco file nella cartella a sinistra (tasto destro -> *Aggiorna*)."
   ]
  },
  {
   "cell_type": "code",
   "execution_count": null,
   "metadata": {},
   "outputs": [],
   "source": [
    "!git clone https://github.com/Grufoony/GOandUISP\n",
    "!mkdir src && mv GOandUISP/src/* ./src\n",
    "!mkdir races && mv GOandUISP/races/* ./races\n",
    "!pip install -r GOandUISP/requirements.txt"
   ]
  },
  {
   "cell_type": "markdown",
   "metadata": {},
   "source": [
    "## Generare automaticamente le categorie staffette\n",
    "\n",
    "Eseguire la cella seguente se si vogliono generare automaticamente le categorie in un file contenente solo staffette."
   ]
  },
  {
   "cell_type": "code",
   "execution_count": null,
   "metadata": {},
   "outputs": [],
   "source": [
    "!python3 races/relay_categories.py"
   ]
  },
  {
   "cell_type": "markdown",
   "metadata": {},
   "source": [
    "## YOUNG CHALLENGE\n",
    "\n",
    "Eseguire la cella seguente se si vuole lavorare su una manifestazione di tipo YOUNG CHALLENGE."
   ]
  },
  {
   "cell_type": "code",
   "execution_count": null,
   "metadata": {},
   "outputs": [],
   "source": [
    "!python3 races/young_challenge/young_challenge.py"
   ]
  },
  {
   "cell_type": "markdown",
   "metadata": {},
   "source": [
    "## Combinata Stili\n",
    "\n",
    "Eseguire la cella seguente se si vuole lavorare su una manifestazione di tipo Combinata degli Stili"
   ]
  },
  {
   "cell_type": "code",
   "execution_count": null,
   "metadata": {},
   "outputs": [],
   "source": [
    "!python3 races/combinata_stili/combinata_stili.py"
   ]
  }
 ],
 "metadata": {
  "kernelspec": {
   "display_name": "Python 3",
   "language": "python",
   "name": "python3"
  },
  "language_info": {
   "codemirror_mode": {
    "name": "ipython",
    "version": 3
   },
   "file_extension": ".py",
   "mimetype": "text/x-python",
   "name": "python",
   "nbconvert_exporter": "python",
   "pygments_lexer": "ipython3",
   "version": "3.10.12"
  },
  "orig_nbformat": 4
 },
 "nbformat": 4,
 "nbformat_minor": 2
}
