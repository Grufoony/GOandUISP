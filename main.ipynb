{
 "cells": [
  {
   "attachments": {},
   "cell_type": "markdown",
   "metadata": {},
   "source": [
    "# GOandUISP\n",
    "Script Python per la conversione di file excel da output GoAndSwim a input per il portale online UISP.\n",
    "\n",
    "## Guida rapida (online version)\n",
    "\n",
    "### Preparare il file di input\n",
    "1. Creare un file excel (_.xlsx_), e aprirlo con Excel. Questo file deve essere vuoto per il momento\n",
    "2. Una volta aperto il file, aprire il file _.GAS_ della manifestazione che si vuole convertire\n",
    "3. Selezionare le gare di interesse ed entrare in esse (tasto in basso a sinistra di GoAndSwim)\n",
    "4. Senza dover fare nulla, si dovrebbe essere sul primo atleta dell'elenco. A questo punto eseguire la combinazione di tasti _CTRL + C_ (copia)\n",
    "5. Andare nel file vuoto appena creato nella prima cella in alto a sinistra (la A1) ed eseguirle la combinazione di tasti _CTRL + V_ (incolla). In questo modo tutte le gare di interesse dovrebbero essere state copiate nel file Excel\n",
    "6. Salvare il file e chiuderlo\n",
    "\n",
    "### Esecuzione\n",
    "\n",
    "Premere sul pulsante a forma di cartella sulla sinistra di questo documento e caricare i file che si desidera convertire.\n",
    "Successivamente, eseguire il codice sotto questo testo con il tasto *play* oppure entrandovi e premendo CTRL + INVIO.\n",
    "__NOTA__: nel caso di atleti con più di un nome/cognome il programma chiederà di inserirli manualmente *in fondo a questa pagina web*, comunicandovi tutti i dati che possiede di quel determinato atleta. Potete scrivere sia in maiuscolo che in minuscolo ed inserire spazi (per i nomi/cognomi multipli). Una volta inserito il nome/cognome multiplo richiesto, premere INVIO e ripetere l'azione ogni qualvolta richiesta dal programma.\n",
    "\n",
    "### Output\n",
    "\n",
    "Una volta eseguito lo script i file saranno formattati correttamente e potranno essere scaricati.\n",
    "In caso le modifiche non siano visibili, ricaricare la pagina (tasto F5)."
   ]
  },
  {
   "cell_type": "code",
   "execution_count": null,
   "metadata": {},
   "outputs": [],
   "source": [
    "!git clone https://github.com/Grufoony/GOandUISP\n",
    "from GOandUISP.GOandUISP import io\n",
    "\n",
    "if __name__ == \"__main__\":\n",
    "    io.convert_folder()"
   ]
  }
 ],
 "metadata": {
  "kernelspec": {
   "display_name": "Python 3",
   "language": "python",
   "name": "python3"
  },
  "language_info": {
   "codemirror_mode": {
    "name": "ipython",
    "version": 3
   },
   "file_extension": ".py",
   "mimetype": "text/x-python",
   "name": "python",
   "nbconvert_exporter": "python",
   "pygments_lexer": "ipython3",
   "version": "3.10.12"
  },
  "orig_nbformat": 4
 },
 "nbformat": 4,
 "nbformat_minor": 2
}
